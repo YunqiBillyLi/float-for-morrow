{
 "cells": [
  {
   "cell_type": "code",
   "execution_count": 2,
   "id": "ed5b9f3d-4935-4880-a242-11f778e01a61",
   "metadata": {},
   "outputs": [],
   "source": [
    "import numpy as np\n",
    "import matplotlib.pyplot as plt\n",
    "\n",
    "from scipy.stats import norm"
   ]
  },
  {
   "cell_type": "code",
   "execution_count": 3,
   "id": "efbae883-f26b-4d0f-a892-e9e9ccacf90f",
   "metadata": {},
   "outputs": [
    {
     "name": "stdout",
     "output_type": "stream",
     "text": [
      "13.57227777777778 +/- 0.06747658487336793\n"
     ]
    }
   ],
   "source": [
    "means = np.array([13.503, 13.638])\n",
    "stds = np.array([0.034, 0.026])\n",
    "\n",
    "var  = stds ** 2\n",
    "w_FE = 1 / var\n",
    "mu_FE = (w_FE * means).sum() / w_FE.sum()\n",
    "\n",
    "Q  = (w_FE * (means - mu_FE) ** 2).sum()\n",
    "df = len(means) - 1\n",
    "c  = w_FE.sum() - (w_FE ** 2).sum() / w_FE.sum()\n",
    "\n",
    "T_squared = max(0.0, (Q - df) / c)\n",
    "\n",
    "weights = 1 / (var + T_squared)\n",
    "\n",
    "combined_mean = (weights * means).sum() / weights.sum()\n",
    "combined_std  = np.sqrt(1 / weights.sum())\n",
    "\n",
    "print(combined_mean, \"+/-\", combined_std)"
   ]
  },
  {
   "cell_type": "code",
   "execution_count": 4,
   "id": "36075696-8f99-4793-9b49-0ba2797e4576",
   "metadata": {},
   "outputs": [],
   "source": [
    "N_HI = 21.4\n",
    "\n",
    "N_MgII = 16.288\n",
    "sigma_MgII = 0.097\n",
    "N_SiII = 16.326\n",
    "sigma_SiII = 0.444\n",
    "N_PII = 0\n",
    "sigma_PII = 0\n",
    "N_SII = 15.882\n",
    "sigma_SII = 0.127\n",
    "N_CrII = 13.572\n",
    "sigma_CrII = 0.067\n",
    "N_FeII = 15.323\n",
    "sigma_FeII = 0.024\n",
    "N_NiII = 13.895\n",
    "sigma_NiII = 0.034\n",
    "N_ZnII = 13.642\n",
    "sigma_ZnII = 0.078\n",
    "N_CuII = 12.866\n",
    "sigma_CuII = 0.100"
   ]
  },
  {
   "cell_type": "code",
   "execution_count": 23,
   "id": "77fa335c-058c-46d4-9dde-bc3f585227c8",
   "metadata": {},
   "outputs": [
    {
     "name": "stdout",
     "output_type": "stream",
     "text": [
      "S:  6.482000000000001 +/- 0.127\n",
      "Fe:  5.923000000000002 +/- 0.024\n"
     ]
    }
   ],
   "source": [
    "MgII_H = N_MgII - N_HI + 12\n",
    "SiII_H = N_SiII - N_HI + 12\n",
    "PII_H = N_PII - N_HI + 12\n",
    "SII_H = N_SII - N_HI + 12\n",
    "CrII_H = N_CrII - N_HI + 12\n",
    "FeII_H = N_FeII - N_HI + 12\n",
    "NiII_H = N_NiII - N_HI + 12\n",
    "ZnII_H = N_ZnII - N_HI + 12\n",
    "CuII_H = N_CuII - N_HI + 12\n",
    "if N_SII != 0:\n",
    "    print(\"S: \", SII_H, \"+/-\", sigma_SII)\n",
    "if N_FeII != 0:\n",
    "    print(\"Fe: \", FeII_H, \"+/-\", sigma_FeII)"
   ]
  },
  {
   "cell_type": "code",
   "execution_count": 6,
   "id": "173cc377-fb0e-4c95-8f91-e65064265451",
   "metadata": {},
   "outputs": [],
   "source": [
    "MgII_H_LMC = 7.26\n",
    "sigma_MgII_H_LMC = 0.08\n",
    "SiII_H_LMC = 7.35\n",
    "sigma_SiII_H_LMC = 0.10\n",
    "PII_H_LMC = 5.10\n",
    "sigma_PII_H_LMC = 0.10\n",
    "SII_H_LMC = 6.94\n",
    "sigma_SII_H_LMC = 0.04\n",
    "CrII_H_LMC = 5.37\n",
    "sigma_CrII_H_LMC = 0.07\n",
    "FeII_H_LMC = 7.32\n",
    "sigma_FeII_H_LMC = 0.08\n",
    "NiII_H_LMC = 5.92\n",
    "sigma_NiII_H_LMC = 0.07\n",
    "ZnII_H_LMC = 4.31\n",
    "sigma_ZnII_H_LMC = 0.15\n",
    "CuII_H_LMC = 3.89\n",
    "sigma_CuII_H_LMC = 0.04"
   ]
  },
  {
   "cell_type": "code",
   "execution_count": 7,
   "id": "d5cf74cd-a560-4d2b-bca7-7ce3a5f229be",
   "metadata": {},
   "outputs": [],
   "source": [
    "depletion_MgII = MgII_H - MgII_H_LMC\n",
    "sigma_depletion_MgII = sigma_MgII ** 2 + sigma_MgII_H_LMC ** 2\n",
    "depletion_SiII = SiII_H - SiII_H_LMC\n",
    "sigma_depletion_SiII = sigma_SiII ** 2 + sigma_SiII_H_LMC ** 2\n",
    "depletion_PII = PII_H - PII_H_LMC\n",
    "sigma_depletion_PII = sigma_PII ** 2 + sigma_PII_H_LMC ** 2\n",
    "depletion_SII = SII_H - SII_H_LMC\n",
    "sigma_depletion_SII = sigma_SII ** 2 + sigma_SII_H_LMC ** 2\n",
    "depletion_CrII = CrII_H - CrII_H_LMC\n",
    "sigma_depletion_CrII = sigma_CrII ** 2 + sigma_CrII_H_LMC ** 2\n",
    "depletion_FeII = FeII_H - FeII_H_LMC\n",
    "sigma_depletion_FeII = sigma_FeII ** 2 + sigma_FeII_H_LMC ** 2\n",
    "depletion_NiII = NiII_H - NiII_H_LMC\n",
    "sigma_depletion_NiII = sigma_NiII ** 2 + sigma_NiII_H_LMC ** 2\n",
    "depletion_ZnII = ZnII_H - ZnII_H_LMC\n",
    "sigma_depletion_ZnII = sigma_ZnII ** 2 + sigma_ZnII_H_LMC ** 2\n",
    "depletion_CuII = CuII_H - CuII_H_LMC\n",
    "sigma_depletion_CuII = sigma_CuII ** 2 + sigma_CuII_H_LMC ** 2"
   ]
  },
  {
   "cell_type": "code",
   "execution_count": 8,
   "id": "2d7b2fb1-dc0c-4029-a6ef-4b829980ec44",
   "metadata": {},
   "outputs": [],
   "source": [
    "A_MgII = -0.60\n",
    "sigma_A_MgII = 0.11\n",
    "B_MgII = -0.50\n",
    "sigma_B_MgII = 0.02\n",
    "z_MgII = 0.407\n",
    "F_star_MgII = (depletion_MgII - B_MgII) / A_MgII + z_MgII\n",
    "sigma_F_star_MgII = np.sqrt((sigma_depletion_MgII / A_MgII) ** 2 + (sigma_B_MgII / A_MgII) ** 2 + ((depletion_MgII - B_MgII) * sigma_A_MgII / A_MgII ** 2) ** 2)\n",
    "\n",
    "A_SiII = -1.11\n",
    "sigma_A_SiII = 0.12\n",
    "B_SiII = -0.68\n",
    "sigma_B_SiII = 0.03\n",
    "z_SiII = 0.247\n",
    "F_star_SiII = (depletion_SiII - B_SiII) / A_SiII + z_SiII\n",
    "sigma_F_star_SiII = np.sqrt((sigma_depletion_SiII / A_SiII) ** 2 + (sigma_B_SiII / A_SiII) ** 2 + ((depletion_SiII - B_SiII) * sigma_A_SiII / A_SiII ** 2) ** 2)\n",
    "\n",
    "A_PII = -1\n",
    "sigma_A_PII = 0\n",
    "B_PII = -1\n",
    "sigma_B_PII = 0\n",
    "z_PII = 1\n",
    "F_star_PII = (depletion_PII - B_PII) / A_PII + z_PII\n",
    "sigma_F_star_PII  = np.sqrt((sigma_depletion_PII  / A_PII ) ** 2 + (sigma_B_PII  / A_PII ) ** 2 + ((depletion_PII  - B_PII ) * sigma_A_PII  / A_PII  ** 2) ** 2)\n",
    "\n",
    "A_SII = -1.02\n",
    "sigma_A_SII = 0.10\n",
    "B_SII = -0.31\n",
    "sigma_B_SII = 0.02\n",
    "z_SII = 0.137\n",
    "F_star_SII = (depletion_SII - B_SII) / A_SII + z_SII\n",
    "sigma_F_star_SII  = np.sqrt((sigma_depletion_SII  / A_SII ) ** 2 + (sigma_B_SII  / A_SII ) ** 2 + ((depletion_SII  - B_SII ) * sigma_A_SII  / A_SII  ** 2) ** 2)\n",
    "\n",
    "A_CrII = -1.18\n",
    "sigma_A_CrII = 0.08\n",
    "B_CrII = -1.13\n",
    "sigma_B_CrII = 0.02\n",
    "z_CrII = 0.368\n",
    "F_star_CrII = (depletion_CrII - B_CrII) / A_CrII + z_CrII\n",
    "sigma_F_star_CrII = np.sqrt((sigma_depletion_CrII / A_CrII) ** 2 + (sigma_B_CrII / A_CrII) ** 2 + ((depletion_CrII - B_CrII) * sigma_A_CrII / A_CrII ** 2) ** 2)\n",
    "\n",
    "A_FeII = -1.285\n",
    "sigma_A_FeII = 0.044\n",
    "B_FeII = -1.513\n",
    "sigma_B_FeII = 0.033\n",
    "z_FeII = 0.437\n",
    "F_star_FeII = (depletion_FeII - B_FeII) / A_FeII + z_FeII\n",
    "sigma_F_star_FeII = np.sqrt((sigma_depletion_FeII / A_FeII) ** 2 + (sigma_B_FeII / A_FeII) ** 2 + ((depletion_FeII - B_FeII) * sigma_A_FeII / A_FeII ** 2) ** 2)\n",
    "\n",
    "A_NiII = -1.29\n",
    "sigma_A_NiII = 0.08\n",
    "B_NiII = -1.16\n",
    "sigma_B_NiII = 0.02\n",
    "z_NiII = 0.338\n",
    "F_star_NiII = (depletion_NiII - B_NiII) / A_NiII + z_NiII\n",
    "sigma_F_star_NiII = np.sqrt((sigma_depletion_NiII / A_NiII) ** 2 + (sigma_B_NiII / A_NiII) ** 2 + ((depletion_NiII - B_NiII) * sigma_A_NiII / A_NiII ** 2) ** 2)\n",
    "\n",
    "A_ZnII = -0.73\n",
    "sigma_A_ZnII = 0.07\n",
    "B_ZnII = -0.36\n",
    "sigma_B_ZnII = 0.02\n",
    "z_ZnII = 0.358\n",
    "F_star_ZnII = (depletion_ZnII - B_ZnII) / A_ZnII + z_ZnII\n",
    "sigma_F_star_ZnII = np.sqrt((sigma_depletion_ZnII / A_ZnII) ** 2 + (sigma_B_ZnII / A_ZnII) ** 2 + ((depletion_ZnII - B_ZnII) * sigma_A_ZnII / A_ZnII ** 2) ** 2)\n",
    "\n",
    "A_CuII = -1.15\n",
    "sigma_A_CuII = 0.42\n",
    "B_CuII = -0.44\n",
    "sigma_B_CuII = 0.09\n",
    "z_CuII = 0.325\n",
    "F_star_CuII = (depletion_CuII - B_CuII) / A_CuII + z_CuII\n",
    "sigma_F_star_CuII = np.sqrt((sigma_depletion_CuII / A_CuII) ** 2 + (sigma_B_CuII / A_CuII) ** 2 + ((depletion_CuII - B_CuII) * sigma_A_CuII / A_CuII ** 2) ** 2)"
   ]
  },
  {
   "cell_type": "code",
   "execution_count": 9,
   "id": "777f4f3e-457d-4e03-8a16-592e4021cf5f",
   "metadata": {},
   "outputs": [
    {
     "data": {
      "image/png": "[encoded data removed]",
      "text/plain": [
       "<Figure size 640x480 with 1 Axes>"
      ]
     },
     "metadata": {},
     "output_type": "display_data"
    }
   ],
   "source": [
    "F_stars = np.array([F_star_MgII, F_star_SiII, F_star_PII, F_star_SII, F_star_CrII, F_star_FeII, F_star_NiII, F_star_ZnII, F_star_CuII])\n",
    "sigma_F_stars = np.array([sigma_F_star_MgII, sigma_F_star_SiII, sigma_F_star_PII, sigma_F_star_SII, sigma_F_star_CrII, sigma_F_star_FeII, sigma_F_star_NiII, sigma_F_star_ZnII, sigma_F_star_CuII])\n",
    "labels = ['MgII', 'SiII', 'PII', 'SII', 'CrII', 'FeII', 'NiII', 'ZnII', 'CuII']\n",
    "\n",
    "x = np.arange(9)\n",
    "\n",
    "plt.errorbar(x, F_stars, fmt = 'o', yerr = sigma_F_stars, color = 'orange')\n",
    "plt.ylim(0, 1)\n",
    "plt.xticks(x, labels)\n",
    "plt.ylabel(r'$F_\\star$')\n",
    "plt.grid()\n",
    "plt.tight_layout()\n",
    "\n",
    "plt.show()\n",
    "\n",
    "# MgII always underestimates F* using Jenkins\n",
    "# NiII, FeII, CrII are better measured lines\n",
    "# PII, SII have no data for LMC-LH-3120\n",
    "# CuII had a suboptimal voigt showing\n",
    "# SiII based on extremely noisy profile"
   ]
  },
  {
   "cell_type": "code",
   "execution_count": 24,
   "id": "bafa94dc-bf75-4982-8453-ad5c48fe949b",
   "metadata": {},
   "outputs": [
    {
     "data": {
      "image/png": "[encoded data removed]",
      "text/plain": [
       "<Figure size 640x480 with 1 Axes>"
      ]
     },
     "metadata": {},
     "output_type": "display_data"
    }
   ],
   "source": [
    "good = ['SII', 'CrII', 'FeII', 'NiII', 'CuII']\n",
    "good_mask = np.isin(labels, good)\n",
    "valid_F_stars = F_stars[good_mask]\n",
    "valid_sigma_F_stars = sigma_F_stars[good_mask]\n",
    "\n",
    "var  = valid_sigma_F_stars ** 2\n",
    "w_FE = 1 / var\n",
    "mu_FE = (w_FE * valid_F_stars).sum() / w_FE.sum()\n",
    "\n",
    "Q  = (w_FE * (valid_F_stars - mu_FE) ** 2).sum()\n",
    "df = len(valid_F_stars) - 1\n",
    "c  = w_FE.sum() - (w_FE ** 2).sum() / w_FE.sum()\n",
    "\n",
    "T_squared = max(0.0, (Q - df) / c)\n",
    "\n",
    "weights = 1 / (var + T_squared)\n",
    "\n",
    "F_star = (weights * valid_F_stars).sum() / weights.sum()\n",
    "sigma_F_star  = np.sqrt(1 / weights.sum())\n",
    "\n",
    "plt.errorbar(x[good_mask], F_stars[good_mask], fmt = 'o', yerr = sigma_F_stars[good_mask], color = 'orange', label = 'Used for F* determination')\n",
    "plt.errorbar(x[~good_mask], F_stars[~good_mask], fmt = 'o', yerr = sigma_F_stars[~good_mask], color = 'red', label = 'Not used for F* determination')\n",
    "\n",
    "plt.fill_between([-1, 10], F_star - sigma_F_star, F_star + sigma_F_star, color = 'skyblue', alpha = 0.5, label = 'overall depletion')\n",
    "plt.axhline(F_star, color = 'skyblue', linestyle = '--')\n",
    "\n",
    "plt.xlim(-0.5, 8.5)\n",
    "plt.ylim(-0.5, 1.5)\n",
    "plt.xticks(x, labels)\n",
    "plt.ylabel(r'$F_\\star$')\n",
    "plt.grid()\n",
    "plt.tight_layout()\n",
    "plt.legend()\n",
    "\n",
    "plt.show()"
   ]
  },
  {
   "cell_type": "code",
   "execution_count": 20,
   "id": "d585f70b-d6c2-48aa-bce9-1d36a6047daa",
   "metadata": {},
   "outputs": [
    {
     "name": "stdout",
     "output_type": "stream",
     "text": [
      "8.402238692009025 +/- 0.14983482607784693\n"
     ]
    }
   ],
   "source": [
    "A_OI = -0.225\n",
    "sigma_A_OI = 0.053\n",
    "B_OI = -0.145\n",
    "sigma_B_OI = 0.051\n",
    "z_OI = 0.598\n",
    "\n",
    "depletion_OI = B_OI + A_OI * (F_star - z_OI)\n",
    "sigma_depletion_OI = np.sqrt(sigma_B_OI ** 2 + ((F_star - z_OI) * sigma_A_OI) ** 2 + (A_OI * sigma_F_star) ** 2)\n",
    "\n",
    "OI_H_LMC = 8.50 # this is okay cause we are always using photospheric abundances\n",
    "sigma_OI_H_LMC = 0.14\n",
    "\n",
    "OI_H = OI_H_LMC + depletion_OI\n",
    "sigma_OI_H = np.sqrt(sigma_OI_H_LMC ** 2 + sigma_depletion_OI ** 2)\n",
    "\n",
    "print(OI_H, \"+/-\", sigma_OI_H)"
   ]
  },
  {
   "cell_type": "code",
   "execution_count": 22,
   "id": "4713aaf7-8eb2-47e5-a596-32c8039c7f26",
   "metadata": {},
   "outputs": [],
   "source": [
    "# OI_H_HII = 8.39\n",
    "# sigma_OI_H_HII = 0.02\n",
    "\n",
    "# z_score = np.abs(OI_H - OI_H_HII) / np.sqrt(sigma_OI_H ** 2 + sigma_OI_H_HII ** 2)\n",
    "\n",
    "# p_value = 2 * (1 - norm.cdf(abs(z_score)))\n",
    "# print(p_value)"
   ]
  },
  {
   "cell_type": "code",
   "execution_count": 12,
   "id": "090ddc67-1617-4bd8-97b3-df6ea56b0e07",
   "metadata": {},
   "outputs": [],
   "source": [
    "# END"
   ]
  }
 ],
 "metadata": {
  "kernelspec": {
   "display_name": "Python 3 (ipykernel)",
   "language": "python",
   "name": "python3"
  },
  "language_info": {
   "codemirror_mode": {
    "name": "ipython",
    "version": 3
   },
   "file_extension": ".py",
   "mimetype": "text/x-python",
   "name": "python",
   "nbconvert_exporter": "python",
   "pygments_lexer": "ipython3",
   "version": "3.13.3"
  }
 },
 "nbformat": 4,
 "nbformat_minor": 5
}
